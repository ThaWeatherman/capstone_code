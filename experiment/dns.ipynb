{
 "cells": [
  {
   "cell_type": "code",
   "execution_count": 1,
   "metadata": {
    "collapsed": true
   },
   "outputs": [],
   "source": [
    "from IPython.display import display\n",
    "import pandas as pd\n",
    "import matplotlib.pyplot as plt\n",
    "% matplotlib inline"
   ]
  },
  {
   "cell_type": "code",
   "execution_count": 2,
   "metadata": {
    "collapsed": false
   },
   "outputs": [],
   "source": [
    "df = pd.read_csv('dns.csv', encoding = \"ISO-8859-1\")"
   ]
  },
  {
   "cell_type": "code",
   "execution_count": 3,
   "metadata": {
    "collapsed": false
   },
   "outputs": [
    {
     "data": {
      "text/html": [
       "<div>\n",
       "<table border=\"1\" class=\"dataframe\">\n",
       "  <thead>\n",
       "    <tr style=\"text-align: right;\">\n",
       "      <th></th>\n",
       "      <th>QR</th>\n",
       "      <th>OPCODE</th>\n",
       "      <th>QNAME</th>\n",
       "      <th>QTYPE</th>\n",
       "      <th>QCLS</th>\n",
       "      <th>RRNAME</th>\n",
       "      <th>RRTYPE</th>\n",
       "      <th>RCLS</th>\n",
       "      <th>TTL</th>\n",
       "      <th>RLEN</th>\n",
       "      <th>RDATA</th>\n",
       "      <th>AA</th>\n",
       "      <th>ID</th>\n",
       "      <th>QDCNT</th>\n",
       "      <th>ANCNT</th>\n",
       "      <th>NSCNT</th>\n",
       "      <th>ARCNT</th>\n",
       "    </tr>\n",
       "  </thead>\n",
       "  <tbody>\n",
       "    <tr>\n",
       "      <th>0</th>\n",
       "      <td>0</td>\n",
       "      <td>0</td>\n",
       "      <td>planetlab2.isi.jhu.edu</td>\n",
       "      <td>1.0</td>\n",
       "      <td>1.0</td>\n",
       "      <td>NaN</td>\n",
       "      <td>NaN</td>\n",
       "      <td>NaN</td>\n",
       "      <td>NaN</td>\n",
       "      <td>NaN</td>\n",
       "      <td>NaN</td>\n",
       "      <td>0</td>\n",
       "      <td>41945</td>\n",
       "      <td>1</td>\n",
       "      <td>0</td>\n",
       "      <td>0</td>\n",
       "      <td>1</td>\n",
       "    </tr>\n",
       "    <tr>\n",
       "      <th>1</th>\n",
       "      <td>1</td>\n",
       "      <td>0</td>\n",
       "      <td>planetlab2.isi.jhu.edu</td>\n",
       "      <td>1.0</td>\n",
       "      <td>1.0</td>\n",
       "      <td>NaN</td>\n",
       "      <td>NaN</td>\n",
       "      <td>NaN</td>\n",
       "      <td>NaN</td>\n",
       "      <td>NaN</td>\n",
       "      <td>NaN</td>\n",
       "      <td>1</td>\n",
       "      <td>41945</td>\n",
       "      <td>1</td>\n",
       "      <td>0</td>\n",
       "      <td>1</td>\n",
       "      <td>1</td>\n",
       "    </tr>\n",
       "    <tr>\n",
       "      <th>2</th>\n",
       "      <td>0</td>\n",
       "      <td>0</td>\n",
       "      <td>planetlab2.isi.jhu.edu</td>\n",
       "      <td>1.0</td>\n",
       "      <td>1.0</td>\n",
       "      <td>NaN</td>\n",
       "      <td>NaN</td>\n",
       "      <td>NaN</td>\n",
       "      <td>NaN</td>\n",
       "      <td>NaN</td>\n",
       "      <td>NaN</td>\n",
       "      <td>0</td>\n",
       "      <td>25281</td>\n",
       "      <td>1</td>\n",
       "      <td>0</td>\n",
       "      <td>0</td>\n",
       "      <td>1</td>\n",
       "    </tr>\n",
       "    <tr>\n",
       "      <th>3</th>\n",
       "      <td>1</td>\n",
       "      <td>0</td>\n",
       "      <td>planetlab2.isi.jhu.edu</td>\n",
       "      <td>1.0</td>\n",
       "      <td>1.0</td>\n",
       "      <td>NaN</td>\n",
       "      <td>NaN</td>\n",
       "      <td>NaN</td>\n",
       "      <td>NaN</td>\n",
       "      <td>NaN</td>\n",
       "      <td>NaN</td>\n",
       "      <td>1</td>\n",
       "      <td>25281</td>\n",
       "      <td>1</td>\n",
       "      <td>0</td>\n",
       "      <td>1</td>\n",
       "      <td>1</td>\n",
       "    </tr>\n",
       "    <tr>\n",
       "      <th>4</th>\n",
       "      <td>0</td>\n",
       "      <td>0</td>\n",
       "      <td>dns2.isi.jhu.edu</td>\n",
       "      <td>255.0</td>\n",
       "      <td>1.0</td>\n",
       "      <td>NaN</td>\n",
       "      <td>NaN</td>\n",
       "      <td>NaN</td>\n",
       "      <td>NaN</td>\n",
       "      <td>NaN</td>\n",
       "      <td>NaN</td>\n",
       "      <td>0</td>\n",
       "      <td>9882</td>\n",
       "      <td>1</td>\n",
       "      <td>0</td>\n",
       "      <td>0</td>\n",
       "      <td>0</td>\n",
       "    </tr>\n",
       "  </tbody>\n",
       "</table>\n",
       "</div>"
      ],
      "text/plain": [
       "   QR  OPCODE                   QNAME  QTYPE  QCLS RRNAME  RRTYPE  RCLS  TTL  \\\n",
       "0   0       0  planetlab2.isi.jhu.edu    1.0   1.0    NaN     NaN   NaN  NaN   \n",
       "1   1       0  planetlab2.isi.jhu.edu    1.0   1.0    NaN     NaN   NaN  NaN   \n",
       "2   0       0  planetlab2.isi.jhu.edu    1.0   1.0    NaN     NaN   NaN  NaN   \n",
       "3   1       0  planetlab2.isi.jhu.edu    1.0   1.0    NaN     NaN   NaN  NaN   \n",
       "4   0       0        dns2.isi.jhu.edu  255.0   1.0    NaN     NaN   NaN  NaN   \n",
       "\n",
       "   RLEN RDATA  AA     ID  QDCNT  ANCNT  NSCNT  ARCNT  \n",
       "0   NaN   NaN   0  41945      1      0      0      1  \n",
       "1   NaN   NaN   1  41945      1      0      1      1  \n",
       "2   NaN   NaN   0  25281      1      0      0      1  \n",
       "3   NaN   NaN   1  25281      1      0      1      1  \n",
       "4   NaN   NaN   0   9882      1      0      0      0  "
      ]
     },
     "execution_count": 3,
     "metadata": {},
     "output_type": "execute_result"
    }
   ],
   "source": [
    "df.head()"
   ]
  },
  {
   "cell_type": "code",
   "execution_count": 4,
   "metadata": {
    "collapsed": false
   },
   "outputs": [
    {
     "data": {
      "text/plain": [
       "'53 rows with no QNAME out of 404198 total rows'"
      ]
     },
     "metadata": {},
     "output_type": "display_data"
    }
   ],
   "source": [
    "# check where QNAME is NaN and get rid of those rows\n",
    "display('{} rows with no QNAME out of {} total rows'.format(len(df[df['QNAME'].notnull() == False].index), len(df.index)))\n",
    "df = df[df['QNAME'].notnull() == True]"
   ]
  },
  {
   "cell_type": "code",
   "execution_count": 5,
   "metadata": {
    "collapsed": false
   },
   "outputs": [
    {
     "data": {
      "text/plain": [
       "'0 rows with no QR out of 404145 total rows'"
      ]
     },
     "metadata": {},
     "output_type": "display_data"
    },
    {
     "data": {
      "text/plain": [
       "'0 rows with no OPCODE out of 404145 total rows'"
      ]
     },
     "metadata": {},
     "output_type": "display_data"
    },
    {
     "data": {
      "text/plain": [
       "'0 rows with no QNAME out of 404145 total rows'"
      ]
     },
     "metadata": {},
     "output_type": "display_data"
    },
    {
     "data": {
      "text/plain": [
       "'0 rows with no QTYPE out of 404145 total rows'"
      ]
     },
     "metadata": {},
     "output_type": "display_data"
    },
    {
     "data": {
      "text/plain": [
       "'0 rows with no QCLS out of 404145 total rows'"
      ]
     },
     "metadata": {},
     "output_type": "display_data"
    },
    {
     "data": {
      "text/plain": [
       "'237861 rows with no RRNAME out of 404145 total rows'"
      ]
     },
     "metadata": {},
     "output_type": "display_data"
    },
    {
     "data": {
      "text/plain": [
       "'237861 rows with no RRTYPE out of 404145 total rows'"
      ]
     },
     "metadata": {},
     "output_type": "display_data"
    },
    {
     "data": {
      "text/plain": [
       "'237861 rows with no RCLS out of 404145 total rows'"
      ]
     },
     "metadata": {},
     "output_type": "display_data"
    },
    {
     "data": {
      "text/plain": [
       "'237861 rows with no TTL out of 404145 total rows'"
      ]
     },
     "metadata": {},
     "output_type": "display_data"
    },
    {
     "data": {
      "text/plain": [
       "'237861 rows with no RLEN out of 404145 total rows'"
      ]
     },
     "metadata": {},
     "output_type": "display_data"
    },
    {
     "data": {
      "text/plain": [
       "'238405 rows with no RDATA out of 404145 total rows'"
      ]
     },
     "metadata": {},
     "output_type": "display_data"
    },
    {
     "data": {
      "text/plain": [
       "'0 rows with no AA out of 404145 total rows'"
      ]
     },
     "metadata": {},
     "output_type": "display_data"
    },
    {
     "data": {
      "text/plain": [
       "'0 rows with no ID out of 404145 total rows'"
      ]
     },
     "metadata": {},
     "output_type": "display_data"
    },
    {
     "data": {
      "text/plain": [
       "'0 rows with no QDCNT out of 404145 total rows'"
      ]
     },
     "metadata": {},
     "output_type": "display_data"
    },
    {
     "data": {
      "text/plain": [
       "'0 rows with no ANCNT out of 404145 total rows'"
      ]
     },
     "metadata": {},
     "output_type": "display_data"
    },
    {
     "data": {
      "text/plain": [
       "'0 rows with no NSCNT out of 404145 total rows'"
      ]
     },
     "metadata": {},
     "output_type": "display_data"
    },
    {
     "data": {
      "text/plain": [
       "'0 rows with no ARCNT out of 404145 total rows'"
      ]
     },
     "metadata": {},
     "output_type": "display_data"
    }
   ],
   "source": [
    "def determine_empty_row_count(df, column_name):\n",
    "    display('{} rows with no {} out of {} total rows'.format(len(df[df[column_name].notnull() == False].index),\n",
    "                                                             column_name, len(df.index)))\n",
    "for column in df.columns:\n",
    "    determine_empty_row_count(df, column)"
   ]
  },
  {
   "cell_type": "code",
   "execution_count": 6,
   "metadata": {
    "collapsed": true
   },
   "outputs": [],
   "source": [
    "df = df[df['QTYPE'].notnull() == True]\n",
    "df = df[df['QCLS'].notnull() == True]"
   ]
  },
  {
   "cell_type": "code",
   "execution_count": 7,
   "metadata": {
    "collapsed": false
   },
   "outputs": [
    {
     "data": {
      "text/html": [
       "<div>\n",
       "<table border=\"1\" class=\"dataframe\">\n",
       "  <thead>\n",
       "    <tr style=\"text-align: right;\">\n",
       "      <th></th>\n",
       "      <th>QR</th>\n",
       "      <th>OPCODE</th>\n",
       "      <th>QNAME</th>\n",
       "      <th>QTYPE</th>\n",
       "      <th>QCLS</th>\n",
       "      <th>RRNAME</th>\n",
       "      <th>RRTYPE</th>\n",
       "      <th>RCLS</th>\n",
       "      <th>TTL</th>\n",
       "      <th>RLEN</th>\n",
       "      <th>RDATA</th>\n",
       "      <th>AA</th>\n",
       "      <th>ID</th>\n",
       "      <th>QDCNT</th>\n",
       "      <th>ANCNT</th>\n",
       "      <th>NSCNT</th>\n",
       "      <th>ARCNT</th>\n",
       "    </tr>\n",
       "  </thead>\n",
       "  <tbody>\n",
       "    <tr>\n",
       "      <th>404193</th>\n",
       "      <td>1</td>\n",
       "      <td>0</td>\n",
       "      <td>www.weather.com</td>\n",
       "      <td>1.0</td>\n",
       "      <td>1.0</td>\n",
       "      <td>www.weather.com</td>\n",
       "      <td>5.0</td>\n",
       "      <td>1.0</td>\n",
       "      <td>60.0</td>\n",
       "      <td>33.0</td>\n",
       "      <td>\u0007pmd-www\u0007weather\u0003com\u0007edgekey\u0003net</td>\n",
       "      <td>0</td>\n",
       "      <td>27818</td>\n",
       "      <td>1</td>\n",
       "      <td>3</td>\n",
       "      <td>0</td>\n",
       "      <td>0</td>\n",
       "    </tr>\n",
       "    <tr>\n",
       "      <th>404194</th>\n",
       "      <td>0</td>\n",
       "      <td>0</td>\n",
       "      <td>textsecure-service-ca.whispersystems.org</td>\n",
       "      <td>1.0</td>\n",
       "      <td>1.0</td>\n",
       "      <td>NaN</td>\n",
       "      <td>NaN</td>\n",
       "      <td>NaN</td>\n",
       "      <td>NaN</td>\n",
       "      <td>NaN</td>\n",
       "      <td>NaN</td>\n",
       "      <td>0</td>\n",
       "      <td>540</td>\n",
       "      <td>1</td>\n",
       "      <td>0</td>\n",
       "      <td>0</td>\n",
       "      <td>0</td>\n",
       "    </tr>\n",
       "    <tr>\n",
       "      <th>404195</th>\n",
       "      <td>0</td>\n",
       "      <td>0</td>\n",
       "      <td>textsecure-service-ca.whispersystems.org</td>\n",
       "      <td>1.0</td>\n",
       "      <td>1.0</td>\n",
       "      <td>NaN</td>\n",
       "      <td>NaN</td>\n",
       "      <td>NaN</td>\n",
       "      <td>NaN</td>\n",
       "      <td>NaN</td>\n",
       "      <td>NaN</td>\n",
       "      <td>0</td>\n",
       "      <td>32517</td>\n",
       "      <td>1</td>\n",
       "      <td>0</td>\n",
       "      <td>0</td>\n",
       "      <td>1</td>\n",
       "    </tr>\n",
       "    <tr>\n",
       "      <th>404196</th>\n",
       "      <td>1</td>\n",
       "      <td>0</td>\n",
       "      <td>textsecure-service-ca.whispersystems.org</td>\n",
       "      <td>1.0</td>\n",
       "      <td>1.0</td>\n",
       "      <td>textsecure-service-ca.whispersystems.org</td>\n",
       "      <td>1.0</td>\n",
       "      <td>1.0</td>\n",
       "      <td>60.0</td>\n",
       "      <td>4.0</td>\n",
       "      <td>6ìvÿ</td>\n",
       "      <td>0</td>\n",
       "      <td>32517</td>\n",
       "      <td>1</td>\n",
       "      <td>1</td>\n",
       "      <td>0</td>\n",
       "      <td>1</td>\n",
       "    </tr>\n",
       "    <tr>\n",
       "      <th>404197</th>\n",
       "      <td>1</td>\n",
       "      <td>0</td>\n",
       "      <td>textsecure-service-ca.whispersystems.org</td>\n",
       "      <td>1.0</td>\n",
       "      <td>1.0</td>\n",
       "      <td>textsecure-service-ca.whispersystems.org</td>\n",
       "      <td>1.0</td>\n",
       "      <td>1.0</td>\n",
       "      <td>60.0</td>\n",
       "      <td>4.0</td>\n",
       "      <td>6ìvÿ</td>\n",
       "      <td>0</td>\n",
       "      <td>540</td>\n",
       "      <td>1</td>\n",
       "      <td>1</td>\n",
       "      <td>0</td>\n",
       "      <td>0</td>\n",
       "    </tr>\n",
       "  </tbody>\n",
       "</table>\n",
       "</div>"
      ],
      "text/plain": [
       "        QR  OPCODE                                     QNAME  QTYPE  QCLS  \\\n",
       "404193   1       0                           www.weather.com    1.0   1.0   \n",
       "404194   0       0  textsecure-service-ca.whispersystems.org    1.0   1.0   \n",
       "404195   0       0  textsecure-service-ca.whispersystems.org    1.0   1.0   \n",
       "404196   1       0  textsecure-service-ca.whispersystems.org    1.0   1.0   \n",
       "404197   1       0  textsecure-service-ca.whispersystems.org    1.0   1.0   \n",
       "\n",
       "                                          RRNAME  RRTYPE  RCLS   TTL  RLEN  \\\n",
       "404193                           www.weather.com     5.0   1.0  60.0  33.0   \n",
       "404194                                       NaN     NaN   NaN   NaN   NaN   \n",
       "404195                                       NaN     NaN   NaN   NaN   NaN   \n",
       "404196  textsecure-service-ca.whispersystems.org     1.0   1.0  60.0   4.0   \n",
       "404197  textsecure-service-ca.whispersystems.org     1.0   1.0  60.0   4.0   \n",
       "\n",
       "                                   RDATA  AA     ID  QDCNT  ANCNT  NSCNT  \\\n",
       "404193  \u0007pmd-www\u0007weather\u0003com\u0007edgekey\u0003net   0  27818      1      3      0   \n",
       "404194                               NaN   0    540      1      0      0   \n",
       "404195                               NaN   0  32517      1      0      0   \n",
       "404196                              6ìvÿ   0  32517      1      1      0   \n",
       "404197                              6ìvÿ   0    540      1      1      0   \n",
       "\n",
       "        ARCNT  \n",
       "404193      0  \n",
       "404194      0  \n",
       "404195      1  \n",
       "404196      1  \n",
       "404197      0  "
      ]
     },
     "execution_count": 7,
     "metadata": {},
     "output_type": "execute_result"
    }
   ],
   "source": [
    "df.tail()"
   ]
  },
  {
   "cell_type": "code",
   "execution_count": 8,
   "metadata": {
    "collapsed": false
   },
   "outputs": [
    {
     "data": {
      "text/plain": [
       "'There are 11226 unique QNAMEs and 9780 unique RRNAMEs'"
      ]
     },
     "metadata": {},
     "output_type": "display_data"
    },
    {
     "data": {
      "text/plain": [
       "'There are 11226 total unique names'"
      ]
     },
     "metadata": {},
     "output_type": "display_data"
    }
   ],
   "source": [
    "# scikit-learn can only handle numerical data\n",
    "# we can drop the rdata column for running the algorithm for now, but we can also turn it into ints somehow\n",
    "# rlen is more telling: we don't actually care what the data is for now\n",
    "# -----------\n",
    "# we need to map qname to unique integers for the algorithm. the same needs to happen for rrname\n",
    "qname_unique = df['QNAME'].dropna().unique()\n",
    "rrname_unique = df['RRNAME'].dropna().unique()\n",
    "display('There are {} unique QNAMEs and {} unique RRNAMEs'.format(len(qname_unique), len(rrname_unique)))\n",
    "all_names = set(qname_unique) | set(rrname_unique)\n",
    "display('There are {} total unique names'.format(len(all_names)))\n",
    "mapping = {name: i for name, i in zip(all_names, range(len(all_names)))}"
   ]
  },
  {
   "cell_type": "code",
   "execution_count": 9,
   "metadata": {
    "collapsed": false
   },
   "outputs": [
    {
     "data": {
      "text/html": [
       "<div>\n",
       "<table border=\"1\" class=\"dataframe\">\n",
       "  <thead>\n",
       "    <tr style=\"text-align: right;\">\n",
       "      <th></th>\n",
       "      <th>QR</th>\n",
       "      <th>OPCODE</th>\n",
       "      <th>QNAME</th>\n",
       "      <th>QTYPE</th>\n",
       "      <th>QCLS</th>\n",
       "      <th>RRNAME</th>\n",
       "      <th>RRTYPE</th>\n",
       "      <th>RCLS</th>\n",
       "      <th>TTL</th>\n",
       "      <th>RLEN</th>\n",
       "      <th>RDATA</th>\n",
       "      <th>AA</th>\n",
       "      <th>ID</th>\n",
       "      <th>QDCNT</th>\n",
       "      <th>ANCNT</th>\n",
       "      <th>NSCNT</th>\n",
       "      <th>ARCNT</th>\n",
       "    </tr>\n",
       "  </thead>\n",
       "  <tbody>\n",
       "    <tr>\n",
       "      <th>0</th>\n",
       "      <td>10510</td>\n",
       "      <td>10510</td>\n",
       "      <td>10510</td>\n",
       "      <td>10510.0</td>\n",
       "      <td>10510.0</td>\n",
       "      <td>10510</td>\n",
       "      <td>10510.0</td>\n",
       "      <td>10510.0</td>\n",
       "      <td>10510.0</td>\n",
       "      <td>10510.0</td>\n",
       "      <td>10510</td>\n",
       "      <td>10510</td>\n",
       "      <td>10510</td>\n",
       "      <td>10510</td>\n",
       "      <td>10510</td>\n",
       "      <td>10510</td>\n",
       "      <td>10510</td>\n",
       "    </tr>\n",
       "    <tr>\n",
       "      <th>1</th>\n",
       "      <td>10510</td>\n",
       "      <td>10510</td>\n",
       "      <td>10510</td>\n",
       "      <td>10510.0</td>\n",
       "      <td>10510.0</td>\n",
       "      <td>10510</td>\n",
       "      <td>10510.0</td>\n",
       "      <td>10510.0</td>\n",
       "      <td>10510.0</td>\n",
       "      <td>10510.0</td>\n",
       "      <td>10510</td>\n",
       "      <td>10510</td>\n",
       "      <td>10510</td>\n",
       "      <td>10510</td>\n",
       "      <td>10510</td>\n",
       "      <td>10510</td>\n",
       "      <td>10510</td>\n",
       "    </tr>\n",
       "    <tr>\n",
       "      <th>2</th>\n",
       "      <td>10510</td>\n",
       "      <td>10510</td>\n",
       "      <td>10510</td>\n",
       "      <td>10510.0</td>\n",
       "      <td>10510.0</td>\n",
       "      <td>10510</td>\n",
       "      <td>10510.0</td>\n",
       "      <td>10510.0</td>\n",
       "      <td>10510.0</td>\n",
       "      <td>10510.0</td>\n",
       "      <td>10510</td>\n",
       "      <td>10510</td>\n",
       "      <td>10510</td>\n",
       "      <td>10510</td>\n",
       "      <td>10510</td>\n",
       "      <td>10510</td>\n",
       "      <td>10510</td>\n",
       "    </tr>\n",
       "    <tr>\n",
       "      <th>3</th>\n",
       "      <td>10510</td>\n",
       "      <td>10510</td>\n",
       "      <td>10510</td>\n",
       "      <td>10510.0</td>\n",
       "      <td>10510.0</td>\n",
       "      <td>10510</td>\n",
       "      <td>10510.0</td>\n",
       "      <td>10510.0</td>\n",
       "      <td>10510.0</td>\n",
       "      <td>10510.0</td>\n",
       "      <td>10510</td>\n",
       "      <td>10510</td>\n",
       "      <td>10510</td>\n",
       "      <td>10510</td>\n",
       "      <td>10510</td>\n",
       "      <td>10510</td>\n",
       "      <td>10510</td>\n",
       "    </tr>\n",
       "    <tr>\n",
       "      <th>4</th>\n",
       "      <td>2629</td>\n",
       "      <td>2629</td>\n",
       "      <td>2629</td>\n",
       "      <td>2629.0</td>\n",
       "      <td>2629.0</td>\n",
       "      <td>2629</td>\n",
       "      <td>2629.0</td>\n",
       "      <td>2629.0</td>\n",
       "      <td>2629.0</td>\n",
       "      <td>2629.0</td>\n",
       "      <td>2629</td>\n",
       "      <td>2629</td>\n",
       "      <td>2629</td>\n",
       "      <td>2629</td>\n",
       "      <td>2629</td>\n",
       "      <td>2629</td>\n",
       "      <td>2629</td>\n",
       "    </tr>\n",
       "  </tbody>\n",
       "</table>\n",
       "</div>"
      ],
      "text/plain": [
       "      QR  OPCODE  QNAME    QTYPE     QCLS RRNAME   RRTYPE     RCLS      TTL  \\\n",
       "0  10510   10510  10510  10510.0  10510.0  10510  10510.0  10510.0  10510.0   \n",
       "1  10510   10510  10510  10510.0  10510.0  10510  10510.0  10510.0  10510.0   \n",
       "2  10510   10510  10510  10510.0  10510.0  10510  10510.0  10510.0  10510.0   \n",
       "3  10510   10510  10510  10510.0  10510.0  10510  10510.0  10510.0  10510.0   \n",
       "4   2629    2629   2629   2629.0   2629.0   2629   2629.0   2629.0   2629.0   \n",
       "\n",
       "      RLEN  RDATA     AA     ID  QDCNT  ANCNT  NSCNT  ARCNT  \n",
       "0  10510.0  10510  10510  10510  10510  10510  10510  10510  \n",
       "1  10510.0  10510  10510  10510  10510  10510  10510  10510  \n",
       "2  10510.0  10510  10510  10510  10510  10510  10510  10510  \n",
       "3  10510.0  10510  10510  10510  10510  10510  10510  10510  \n",
       "4   2629.0   2629   2629   2629   2629   2629   2629   2629  "
      ]
     },
     "metadata": {},
     "output_type": "display_data"
    }
   ],
   "source": [
    "#df.replace(mapping, inplace=True)\n",
    "for name in mapping:\n",
    "    df.loc[df['QNAME'] == name] = mapping[name]\n",
    "    df.loc[df['RRNAME'] == name] = mapping[name]\n",
    "display(df.head())"
   ]
  },
  {
   "cell_type": "code",
   "execution_count": 10,
   "metadata": {
    "collapsed": false
   },
   "outputs": [
    {
     "data": {
      "text/html": [
       "<div>\n",
       "<table border=\"1\" class=\"dataframe\">\n",
       "  <thead>\n",
       "    <tr style=\"text-align: right;\">\n",
       "      <th></th>\n",
       "      <th>QR</th>\n",
       "      <th>OPCODE</th>\n",
       "      <th>QNAME</th>\n",
       "      <th>QTYPE</th>\n",
       "      <th>QCLS</th>\n",
       "      <th>RRNAME</th>\n",
       "      <th>RRTYPE</th>\n",
       "      <th>RCLS</th>\n",
       "      <th>TTL</th>\n",
       "      <th>RLEN</th>\n",
       "      <th>RDATA</th>\n",
       "      <th>AA</th>\n",
       "      <th>ID</th>\n",
       "      <th>QDCNT</th>\n",
       "      <th>ANCNT</th>\n",
       "      <th>NSCNT</th>\n",
       "      <th>ARCNT</th>\n",
       "    </tr>\n",
       "  </thead>\n",
       "  <tbody>\n",
       "    <tr>\n",
       "      <th>0</th>\n",
       "      <td>10510</td>\n",
       "      <td>10510</td>\n",
       "      <td>10510</td>\n",
       "      <td>10510.0</td>\n",
       "      <td>10510.0</td>\n",
       "      <td>10510</td>\n",
       "      <td>10510.0</td>\n",
       "      <td>10510.0</td>\n",
       "      <td>10510.0</td>\n",
       "      <td>10510.0</td>\n",
       "      <td>10510</td>\n",
       "      <td>10510</td>\n",
       "      <td>10510</td>\n",
       "      <td>10510</td>\n",
       "      <td>10510</td>\n",
       "      <td>10510</td>\n",
       "      <td>10510</td>\n",
       "    </tr>\n",
       "    <tr>\n",
       "      <th>1</th>\n",
       "      <td>10510</td>\n",
       "      <td>10510</td>\n",
       "      <td>10510</td>\n",
       "      <td>10510.0</td>\n",
       "      <td>10510.0</td>\n",
       "      <td>10510</td>\n",
       "      <td>10510.0</td>\n",
       "      <td>10510.0</td>\n",
       "      <td>10510.0</td>\n",
       "      <td>10510.0</td>\n",
       "      <td>10510</td>\n",
       "      <td>10510</td>\n",
       "      <td>10510</td>\n",
       "      <td>10510</td>\n",
       "      <td>10510</td>\n",
       "      <td>10510</td>\n",
       "      <td>10510</td>\n",
       "    </tr>\n",
       "    <tr>\n",
       "      <th>2</th>\n",
       "      <td>10510</td>\n",
       "      <td>10510</td>\n",
       "      <td>10510</td>\n",
       "      <td>10510.0</td>\n",
       "      <td>10510.0</td>\n",
       "      <td>10510</td>\n",
       "      <td>10510.0</td>\n",
       "      <td>10510.0</td>\n",
       "      <td>10510.0</td>\n",
       "      <td>10510.0</td>\n",
       "      <td>10510</td>\n",
       "      <td>10510</td>\n",
       "      <td>10510</td>\n",
       "      <td>10510</td>\n",
       "      <td>10510</td>\n",
       "      <td>10510</td>\n",
       "      <td>10510</td>\n",
       "    </tr>\n",
       "    <tr>\n",
       "      <th>3</th>\n",
       "      <td>10510</td>\n",
       "      <td>10510</td>\n",
       "      <td>10510</td>\n",
       "      <td>10510.0</td>\n",
       "      <td>10510.0</td>\n",
       "      <td>10510</td>\n",
       "      <td>10510.0</td>\n",
       "      <td>10510.0</td>\n",
       "      <td>10510.0</td>\n",
       "      <td>10510.0</td>\n",
       "      <td>10510</td>\n",
       "      <td>10510</td>\n",
       "      <td>10510</td>\n",
       "      <td>10510</td>\n",
       "      <td>10510</td>\n",
       "      <td>10510</td>\n",
       "      <td>10510</td>\n",
       "    </tr>\n",
       "    <tr>\n",
       "      <th>4</th>\n",
       "      <td>2629</td>\n",
       "      <td>2629</td>\n",
       "      <td>2629</td>\n",
       "      <td>2629.0</td>\n",
       "      <td>2629.0</td>\n",
       "      <td>2629</td>\n",
       "      <td>2629.0</td>\n",
       "      <td>2629.0</td>\n",
       "      <td>2629.0</td>\n",
       "      <td>2629.0</td>\n",
       "      <td>2629</td>\n",
       "      <td>2629</td>\n",
       "      <td>2629</td>\n",
       "      <td>2629</td>\n",
       "      <td>2629</td>\n",
       "      <td>2629</td>\n",
       "      <td>2629</td>\n",
       "    </tr>\n",
       "  </tbody>\n",
       "</table>\n",
       "</div>"
      ],
      "text/plain": [
       "      QR  OPCODE  QNAME    QTYPE     QCLS RRNAME   RRTYPE     RCLS      TTL  \\\n",
       "0  10510   10510  10510  10510.0  10510.0  10510  10510.0  10510.0  10510.0   \n",
       "1  10510   10510  10510  10510.0  10510.0  10510  10510.0  10510.0  10510.0   \n",
       "2  10510   10510  10510  10510.0  10510.0  10510  10510.0  10510.0  10510.0   \n",
       "3  10510   10510  10510  10510.0  10510.0  10510  10510.0  10510.0  10510.0   \n",
       "4   2629    2629   2629   2629.0   2629.0   2629   2629.0   2629.0   2629.0   \n",
       "\n",
       "      RLEN  RDATA     AA     ID  QDCNT  ANCNT  NSCNT  ARCNT  \n",
       "0  10510.0  10510  10510  10510  10510  10510  10510  10510  \n",
       "1  10510.0  10510  10510  10510  10510  10510  10510  10510  \n",
       "2  10510.0  10510  10510  10510  10510  10510  10510  10510  \n",
       "3  10510.0  10510  10510  10510  10510  10510  10510  10510  \n",
       "4   2629.0   2629   2629   2629   2629   2629   2629   2629  "
      ]
     },
     "execution_count": 10,
     "metadata": {},
     "output_type": "execute_result"
    }
   ],
   "source": [
    "df.head()"
   ]
  },
  {
   "cell_type": "code",
   "execution_count": null,
   "metadata": {
    "collapsed": true
   },
   "outputs": [],
   "source": []
  }
 ],
 "metadata": {
  "kernelspec": {
   "display_name": "Python 3",
   "language": "python",
   "name": "python3"
  },
  "language_info": {
   "codemirror_mode": {
    "name": "ipython",
    "version": 3
   },
   "file_extension": ".py",
   "mimetype": "text/x-python",
   "name": "python",
   "nbconvert_exporter": "python",
   "pygments_lexer": "ipython3",
   "version": "3.5.1"
  }
 },
 "nbformat": 4,
 "nbformat_minor": 0
}
