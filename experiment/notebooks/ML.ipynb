{
 "cells": [
  {
   "cell_type": "code",
   "execution_count": 1,
   "metadata": {
    "collapsed": true
   },
   "outputs": [],
   "source": [
    "import itertools\n",
    "import json\n",
    "import os\n",
    "\n",
    "import numpy as np\n",
    "import pandas as pd\n",
    "from IPython.display import display\n",
    "\n",
    "import matplotlib.pyplot as plt\n",
    "%matplotlib inline\n",
    "\n",
    "\n",
    "dataset = '../dns_final.csv'\n",
    "anchor_file = '../anchor.csv'\n",
    "map_file = '../mapping.json'\n",
    "reports = '../virustotal/data/reports/'\n",
    "colors = itertools.cycle('bgrcmykbgrcmykbgrcmykbgrcmyk')"
   ]
  },
  {
   "cell_type": "code",
   "execution_count": 2,
   "metadata": {
    "collapsed": true
   },
   "outputs": [],
   "source": [
    "df = pd.read_csv(dataset)\n",
    "anchor = pd.read_csv(anchor_file)\n",
    "with open(map_file) as f:\n",
    "    mapping = json.load(f)\n",
    "    rev_mapping = {y:x for x, y in mapping.items()}"
   ]
  },
  {
   "cell_type": "code",
   "execution_count": 3,
   "metadata": {
    "collapsed": false
   },
   "outputs": [],
   "source": [
    "# window size is 50, so use 46 real and seed with 4\n",
    "def generate_random_sample():\n",
    "    df_sample = np.random.choice(df.index.values, 46)\n",
    "    s1 = df.ix[df_sample]\n",
    "    ar = np.array(s1)\n",
    "    anchor_sample = np.random.choice(anchor.index.values, 4)\n",
    "    s2 = anchor.ix[anchor_sample]\n",
    "    ar = np.concatenate((ar, np.array(s2)), axis=0)\n",
    "    return (ar, s1, s2)\n",
    "\n",
    "def get_report(name):\n",
    "    n = os.path.join(reports, name) + '.json'\n",
    "    try:\n",
    "        with open(n) as f:\n",
    "            r = json.load(f)\n",
    "        return r['positives']\n",
    "    except:\n",
    "        return -1\n",
    "\n",
    "def determine_accuracy(ar, s1, s2, labels):\n",
    "    # assumes df, anchor, and mapping are globals that exist\n",
    "    # we know the last n rows in ar are the seeds\n",
    "    # first, we assume the n seeds should be clustered together\n",
    "    if (labels[-1] != labels[-2]) or (labels[-1] != labels[-3]) or (labels[-1] != labels[-4]) or \\\n",
    "        (labels[-2] != labels[-3]) or (labels[-2] != labels[-4]) or (labels[-3] != labels[-4]):\n",
    "        raise Exception('Seeds were not clustered together')\n",
    "    indexes = np.where((labels[:-4] == labels[-1]))\n",
    "    possible = s1.iloc[indexes]\n",
    "    #display(possible.head())\n",
    "    display('There are {} total entries in the \"bad\" cluster out of the 46 possible.'.format(len(possible)))\n",
    "    s1['DNAME'] = s1['NAME'].map(lambda x: rev_mapping[x])\n",
    "    s1['SCORE'] = s1['DNAME'].map(get_report)\n",
    "    pos = len(s1[s1['SCORE'] > 0])\n",
    "    display('Ignoring the seeds, there are {}/{} possibly malicious domains in the cluster'.format(pos, len(possible)))"
   ]
  },
  {
   "cell_type": "markdown",
   "metadata": {},
   "source": [
    "## Generate random sample"
   ]
  },
  {
   "cell_type": "code",
   "execution_count": 37,
   "metadata": {
    "collapsed": true
   },
   "outputs": [],
   "source": [
    "# Column reference\n",
    "# ['OPCODE', 'QTYPE', 'QCLS', 'NAME', 'RRTYPE', 'RCLS', 'TTL', 'RLEN',\n",
    "#  'AA', 'ID', 'QDCNT', 'ANCNT', 'NSCNT', 'ARCNT', 'ENTROPY']\n",
    "ar, s1, s2 = generate_random_sample()"
   ]
  },
  {
   "cell_type": "markdown",
   "metadata": {},
   "source": [
    "# Affinity Propagation"
   ]
  },
  {
   "cell_type": "code",
   "execution_count": 12,
   "metadata": {
    "collapsed": true
   },
   "outputs": [],
   "source": [
    "from sklearn.cluster import AffinityPropagation\n",
    "af = AffinityPropagation().fit(ar)\n",
    "\n",
    "cluster_centers_indices = af.cluster_centers_indices_\n",
    "labels = af.labels_\n",
    "n_clusters_ = len(cluster_centers_indices)"
   ]
  },
  {
   "cell_type": "code",
   "execution_count": 13,
   "metadata": {
    "collapsed": false
   },
   "outputs": [
    {
     "data": {
      "image/png": "[encoded data removed]",
      "text/plain": [
       "<matplotlib.figure.Figure at 0x7ff8e42eec50>"
      ]
     },
     "metadata": {},
     "output_type": "display_data"
    }
   ],
   "source": [
    "# separate plotting code for graphing different columns against each other\n",
    "plt.close('all')\n",
    "plt.figure(1)\n",
    "plt.clf()\n",
    "\n",
    "for k, col in zip(range(n_clusters_), colors):\n",
    "    class_members = labels == k\n",
    "    cluster_center = ar[cluster_centers_indices[k]]\n",
    "    plt.plot(ar[class_members, 7], ar[class_members, 14], col + '.')\n",
    "    plt.plot(cluster_center[7], cluster_center[14], 'o', markerfacecolor=col,\n",
    "             markeredgecolor='k', markersize=14)\n",
    "    for x in ar[class_members]:\n",
    "        plt.plot([cluster_center[0], x[0]], [cluster_center[1], x[1]], col)\n",
    "\n",
    "plt.title('Estimated number of clusters: %d' % n_clusters_)\n",
    "plt.xlabel('RLEN')\n",
    "plt.ylabel('ENTROPY')\n",
    "plt.show()"
   ]
  },
  {
   "cell_type": "code",
   "execution_count": 14,
   "metadata": {
    "collapsed": false
   },
   "outputs": [
    {
     "data": {
      "text/plain": [
       "'Seeds were not clustered together'"
      ]
     },
     "metadata": {},
     "output_type": "display_data"
    }
   ],
   "source": [
    "try:\n",
    "    determine_accuracy(ar, s1, s2, labels)\n",
    "except Exception as e:\n",
    "    display(str(e))"
   ]
  },
  {
   "cell_type": "markdown",
   "metadata": {
    "collapsed": true
   },
   "source": [
    "# Mean Shift"
   ]
  },
  {
   "cell_type": "code",
   "execution_count": 15,
   "metadata": {
    "collapsed": true
   },
   "outputs": [],
   "source": [
    "from sklearn.cluster import MeanShift, estimate_bandwidth\n",
    "bandwidth = estimate_bandwidth(ar, quantile=0.5)\n",
    "ms = MeanShift(bandwidth=bandwidth, bin_seeding=True)\n",
    "ms.fit(ar)\n",
    "\n",
    "# matches with row numbers in the nparray\n",
    "labels = ms.labels_\n",
    "# each nparray matches up with the df columns\n",
    "cluster_centers = ms.cluster_centers_\n",
    "labels_unique = np.unique(labels)\n",
    "n_clusters_ = len(labels_unique)"
   ]
  },
  {
   "cell_type": "code",
   "execution_count": 16,
   "metadata": {
    "collapsed": false
   },
   "outputs": [
    {
     "data": {
      "image/png": "[encoded data removed]",
      "text/plain": [
       "<matplotlib.figure.Figure at 0x7ff8a7c679e8>"
      ]
     },
     "metadata": {},
     "output_type": "display_data"
    }
   ],
   "source": [
    "# separate plotting code for graphing different columns against each other\n",
    "plt.figure(1)\n",
    "plt.clf()\n",
    "\n",
    "for k, col in zip(range(n_clusters_), colors):\n",
    "    my_members = labels == k\n",
    "    cluster_center = cluster_centers[k]\n",
    "    plt.plot(ar[my_members, 7], ar[my_members, 14], col + '.')\n",
    "    plt.plot(cluster_center[7], cluster_center[14], 'o', markerfacecolor=col,\n",
    "             markeredgecolor='k', markersize=14)\n",
    "plt.title('Estimated number of clusters: %d' % n_clusters_)\n",
    "plt.xlabel('RLEN')\n",
    "plt.ylabel('ENTROPY')\n",
    "plt.show()"
   ]
  },
  {
   "cell_type": "code",
   "execution_count": 17,
   "metadata": {
    "collapsed": false
   },
   "outputs": [
    {
     "data": {
      "text/plain": [
       "'There are 38 total entries in the \"bad\" cluster out of the 46 possible.'"
      ]
     },
     "metadata": {},
     "output_type": "display_data"
    },
    {
     "data": {
      "text/plain": [
       "'Ignoring the seeds, there are 0/38 possibly malicious domains in the cluster'"
      ]
     },
     "metadata": {},
     "output_type": "display_data"
    }
   ],
   "source": [
    "try:\n",
    "    determine_accuracy(ar, s1, s2, labels)\n",
    "except Exception as e:\n",
    "    display(str(e))"
   ]
  },
  {
   "cell_type": "markdown",
   "metadata": {},
   "source": [
    "# K-means"
   ]
  },
  {
   "cell_type": "code",
   "execution_count": 33,
   "metadata": {
    "collapsed": false
   },
   "outputs": [],
   "source": [
    "from sklearn.cluster import KMeans\n",
    "km = KMeans(n_clusters=2).fit(ar)\n",
    "# matches with row numbers in the nparray\n",
    "labels = km.labels_\n",
    "# each nparray matches up with the df columns\n",
    "cluster_centers = km.cluster_centers_\n",
    "labels_unique = np.unique(labels)\n",
    "n_clusters_ = len(labels_unique)"
   ]
  },
  {
   "cell_type": "code",
   "execution_count": 34,
   "metadata": {
    "collapsed": false
   },
   "outputs": [
    {
     "data": {
      "image/png": "[encoded data removed]",
      "text/plain": [
       "<matplotlib.figure.Figure at 0x7ff8a79ce7f0>"
      ]
     },
     "metadata": {},
     "output_type": "display_data"
    }
   ],
   "source": [
    "for k, col in zip(range(n_clusters_), colors):\n",
    "    my_members = labels == k\n",
    "    cluster_center = cluster_centers[k]\n",
    "    plt.plot(ar[my_members, 7], ar[my_members, 14], col + '.')\n",
    "    plt.plot(cluster_center[7], cluster_center[14], 'o', markerfacecolor=col,\n",
    "             markeredgecolor='k', markersize=14)\n",
    "plt.title('Estimated number of clusters: %d' % n_clusters_)\n",
    "plt.xlabel('RLEN')\n",
    "plt.ylabel('ENTROPY')\n",
    "plt.show()"
   ]
  },
  {
   "cell_type": "code",
   "execution_count": 35,
   "metadata": {
    "collapsed": false
   },
   "outputs": [
    {
     "data": {
      "text/plain": [
       "'There are 38 total entries in the \"bad\" cluster out of the 46 possible.'"
      ]
     },
     "metadata": {},
     "output_type": "display_data"
    },
    {
     "data": {
      "text/plain": [
       "'Ignoring the seeds, there are 0/38 possibly malicious domains in the cluster'"
      ]
     },
     "metadata": {},
     "output_type": "display_data"
    }
   ],
   "source": [
    "try:\n",
    "    determine_accuracy(ar, s1, s2, labels)\n",
    "except Exception as e:\n",
    "    display(str(e))"
   ]
  },
  {
   "cell_type": "code",
   "execution_count": null,
   "metadata": {
    "collapsed": true
   },
   "outputs": [],
   "source": []
  }
 ],
 "metadata": {
  "kernelspec": {
   "display_name": "Python 3",
   "language": "python",
   "name": "python3"
  },
  "language_info": {
   "codemirror_mode": {
    "name": "ipython",
    "version": 3
   },
   "file_extension": ".py",
   "mimetype": "text/x-python",
   "name": "python",
   "nbconvert_exporter": "python",
   "pygments_lexer": "ipython3",
   "version": "3.5.1"
  }
 },
 "nbformat": 4,
 "nbformat_minor": 0
}
