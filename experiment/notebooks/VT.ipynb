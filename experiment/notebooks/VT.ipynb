{
 "cells": [
  {
   "cell_type": "code",
   "execution_count": 24,
   "metadata": {
    "collapsed": false
   },
   "outputs": [],
   "source": [
    "import pandas as pd\n",
    "import requests\n",
    "import sys\n",
    "import time\n",
    "from IPython.display import display\n",
    "\n",
    "\n",
    "API_KEY = '02fcb3aacc4b56bc994cb41b31bb9fd30c4e20d342813d2288f86fc6d4420e93'\n",
    "SCAN_URL = 'https://www.virustotal.com/vtapi/v2/url/scan'\n",
    "REPORT_URL = 'http://www.virustotal.com/vtapi/v2/url/report'\n",
    "IN_FILE = 'dns.csv'\n",
    "SCAN_DATA = {'apikey': API_KEY, 'url': ''}\n",
    "REPORT_DATA = {'apikey': API_KEY, 'scan': '1', 'resource': ''}\n",
    "SCAN_OUT_FILE = 'data/scan_ids.csv'\n",
    "REPORT_OUT_DIR = 'data/reports'\n",
    "\n",
    "\n",
    "df = pd.read_csv(IN_FILE, encoding = \"ISO-8859-1\")\n",
    "url_to_scanid = {}"
   ]
  },
  {
   "cell_type": "code",
   "execution_count": 15,
   "metadata": {
    "collapsed": true
   },
   "outputs": [],
   "source": [
    "urls = set(list(df['QNAME'].dropna().unique())) | set(list(df['RRNAME'].dropna().unique()))"
   ]
  },
  {
   "cell_type": "code",
   "execution_count": 16,
   "metadata": {
    "collapsed": false
   },
   "outputs": [
    {
     "data": {
      "text/plain": [
       "11226"
      ]
     },
     "metadata": {},
     "output_type": "display_data"
    }
   ],
   "source": [
    "display(len(urls))"
   ]
  },
  {
   "cell_type": "code",
   "execution_count": 18,
   "metadata": {
    "collapsed": false
   },
   "outputs": [
    {
     "data": {
      "text/plain": [
       "['www.gstatic.com',\n",
       " 'www.mozilla.org.cdn.cloudflare.net',\n",
       " 'str-zedd-production-1686163808.us-east-1.elb.amazonaws.com',\n",
       " 'instagram.c10r.facebook.com']"
      ]
     },
     "metadata": {},
     "output_type": "display_data"
    },
    {
     "data": {
      "text/plain": [
       "['Isi.JhU.Edu', 'segment.prod.bidr.io']"
      ]
     },
     "metadata": {},
     "output_type": "display_data"
    }
   ],
   "source": [
    "def chunk(l, n):\n",
    "    for i in range(0, len(l), n):\n",
    "        yield l[i:i+n]\n",
    "\n",
    "urls = list(urls)\n",
    "chunked = [l for l in chunk(urls, 4)]\n",
    "display(chunked[0])\n",
    "display(chunked[-1])"
   ]
  },
  {
   "cell_type": "code",
   "execution_count": 19,
   "metadata": {
    "collapsed": false
   },
   "outputs": [
    {
     "data": {
      "text/plain": [
       "[{'permalink': 'https://www.virustotal.com/url/5e44ffd45c17a20ad2e1d610128ebb5744a7c4eb10397f75befd2032065a8d09/analysis/1462417590/',\n",
       "  'resource': 'http://www.gstatic.com/',\n",
       "  'response_code': 1,\n",
       "  'scan_date': '2016-05-05 03:06:30',\n",
       "  'scan_id': '5e44ffd45c17a20ad2e1d610128ebb5744a7c4eb10397f75befd2032065a8d09-1462417590',\n",
       "  'url': 'http://www.gstatic.com/',\n",
       "  'verbose_msg': 'Scan request successfully queued, come back later for the report'},\n",
       " {'permalink': 'https://www.virustotal.com/url/ede48804dcc79775e340f0c3fcd7d4c147ea76b4037ccad24e2d700ed6f17bd6/analysis/1462417590/',\n",
       "  'resource': 'http://www.mozilla.org.cdn.cloudflare.net/',\n",
       "  'response_code': 1,\n",
       "  'scan_date': '2016-05-05 03:06:30',\n",
       "  'scan_id': 'ede48804dcc79775e340f0c3fcd7d4c147ea76b4037ccad24e2d700ed6f17bd6-1462417590',\n",
       "  'url': 'http://www.mozilla.org.cdn.cloudflare.net/',\n",
       "  'verbose_msg': 'Scan request successfully queued, come back later for the report'},\n",
       " {'permalink': 'https://www.virustotal.com/url/e43ebf398d8bedf3bdbeda5ab71eb31ceaf47067c6f8ab3b3037e3330e82c2ca/analysis/1462417590/',\n",
       "  'resource': 'http://str-zedd-production-1686163808.us-east-1.elb.amazonaws.com/',\n",
       "  'response_code': 1,\n",
       "  'scan_date': '2016-05-05 03:06:30',\n",
       "  'scan_id': 'e43ebf398d8bedf3bdbeda5ab71eb31ceaf47067c6f8ab3b3037e3330e82c2ca-1462417590',\n",
       "  'url': 'http://str-zedd-production-1686163808.us-east-1.elb.amazonaws.com/',\n",
       "  'verbose_msg': 'Scan request successfully queued, come back later for the report'},\n",
       " {'permalink': 'https://www.virustotal.com/url/235e1b3d01b25ebcde2914617d061b735436206298d31b826aaf12c1ba2c78aa/analysis/1462417590/',\n",
       "  'resource': 'http://instagram.c10r.facebook.com/',\n",
       "  'response_code': 1,\n",
       "  'scan_date': '2016-05-05 03:06:30',\n",
       "  'scan_id': '235e1b3d01b25ebcde2914617d061b735436206298d31b826aaf12c1ba2c78aa-1462417590',\n",
       "  'url': 'http://instagram.c10r.facebook.com/',\n",
       "  'verbose_msg': 'Scan request successfully queued, come back later for the report'}]"
      ]
     },
     "metadata": {},
     "output_type": "display_data"
    }
   ],
   "source": [
    "SCAN_DATA['url'] = '\\n'.join(chunked[0])\n",
    "r = requests.post(SCAN_URL, data=SCAN_DATA)\n",
    "if r.status_code == 200:\n",
    "    display(r.json())\n",
    "else:\n",
    "    display(r.status_code)\n",
    "    display(r.text)"
   ]
  },
  {
   "cell_type": "code",
   "execution_count": 25,
   "metadata": {
    "collapsed": false
   },
   "outputs": [
    {
     "data": {
      "text/plain": [
       "'starting...'"
      ]
     },
     "metadata": {},
     "output_type": "display_data"
    },
    {
     "name": "stdout",
     "output_type": "stream",
     "text": [
      "........................................................................................................................................................................................................................................................................................"
     ]
    },
    {
     "data": {
      "text/plain": [
       "'Done in 52662.532977581024 seconds!'"
      ]
     },
     "metadata": {},
     "output_type": "display_data"
    }
   ],
   "source": [
    "failed = []\n",
    "start = time.time()\n",
    "count = 0\n",
    "display('starting...')\n",
    "with open(SCAN_OUT_FILE, 'a') as f:\n",
    "    # f.write('url,scan_id\\n')\n",
    "    for chunk in chunked:\n",
    "        l = set(chunk)\n",
    "        s = []\n",
    "        for c in l:\n",
    "            if c not in url_to_scanid:\n",
    "                s.append(c)\n",
    "        if not s:\n",
    "            continue\n",
    "        SCAN_DATA['url'] = '\\n'.join(s)\n",
    "        r = requests.post(SCAN_URL, data=SCAN_DATA)\n",
    "        if r.status_code == 200:\n",
    "            for d in r.json():\n",
    "                if d['response_code'] == 1:\n",
    "                    url_to_scanid[d['url']] = d['scan_id']\n",
    "                    f.write(d['url'] + ',' + d['scan_id'] + '\\n')\n",
    "        else:\n",
    "            for u in chunk:\n",
    "                failed.append(u)\n",
    "        count += 1\n",
    "        if count % 10 == 0:\n",
    "            sys.stdout.write('.')\n",
    "        time.sleep(18)  # delay it slightly from their limit, just because\n",
    "end = time.time()\n",
    "display('Done in {} seconds!'.format(end-start))"
   ]
  },
  {
   "cell_type": "code",
   "execution_count": 27,
   "metadata": {
    "collapsed": false
   },
   "outputs": [
    {
     "data": {
      "text/plain": [
       "5502"
      ]
     },
     "metadata": {},
     "output_type": "display_data"
    }
   ],
   "source": [
    "display(len(failed))"
   ]
  },
  {
   "cell_type": "code",
   "execution_count": 28,
   "metadata": {
    "collapsed": true
   },
   "outputs": [],
   "source": [
    "with open('data/failed.txt', 'w') as f:\n",
    "    f.write('\\n'.join(failed))"
   ]
  },
  {
   "cell_type": "code",
   "execution_count": null,
   "metadata": {
    "collapsed": true
   },
   "outputs": [],
   "source": []
  }
 ],
 "metadata": {
  "kernelspec": {
   "display_name": "Python 3",
   "language": "python",
   "name": "python3"
  },
  "language_info": {
   "codemirror_mode": {
    "name": "ipython",
    "version": 3
   },
   "file_extension": ".py",
   "mimetype": "text/x-python",
   "name": "python",
   "nbconvert_exporter": "python",
   "pygments_lexer": "ipython3",
   "version": "3.5.1"
  }
 },
 "nbformat": 4,
 "nbformat_minor": 0
}
